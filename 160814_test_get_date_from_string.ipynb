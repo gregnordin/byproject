{
 "cells": [
  {
   "cell_type": "code",
   "execution_count": 27,
   "metadata": {
    "collapsed": true
   },
   "outputs": [],
   "source": [
    "from datetime import datetime, timedelta\n",
    "import re"
   ]
  },
  {
   "cell_type": "code",
   "execution_count": 9,
   "metadata": {
    "collapsed": false
   },
   "outputs": [
    {
     "data": {
      "text/plain": [
       "datetime.datetime(2016, 8, 14, 20, 15, 52, 617400)"
      ]
     },
     "execution_count": 9,
     "metadata": {},
     "output_type": "execute_result"
    }
   ],
   "source": [
    "# Get today as a datetime object\n",
    "today = datetime.now()\n",
    "today"
   ]
  },
  {
   "cell_type": "code",
   "execution_count": 10,
   "metadata": {
    "collapsed": false
   },
   "outputs": [
    {
     "name": "stdout",
     "output_type": "stream",
     "text": [
      "2016-08-14 20:15:52.617400\n",
      "2016\n",
      "2016-08-14\n"
     ]
    }
   ],
   "source": [
    "# How to print today\n",
    "print(today)\n",
    "print(today.year)\n",
    "print(today.strftime(\"%Y-%m-%d\"))"
   ]
  },
  {
   "cell_type": "code",
   "execution_count": 17,
   "metadata": {
    "collapsed": false
   },
   "outputs": [
    {
     "name": "stdout",
     "output_type": "stream",
     "text": [
      "2016-08-14\n",
      "2016-08-13\n",
      "2016-08-12\n",
      "2016-08-11\n"
     ]
    }
   ],
   "source": [
    "# Define some previous days\n",
    "daysago_0 = today - timedelta(days=0)\n",
    "print(daysago_0.strftime(\"%Y-%m-%d\"))\n",
    "daysago_1 = today - timedelta(days=1)\n",
    "print(daysago_1.strftime(\"%Y-%m-%d\"))\n",
    "daysago_2 = today - timedelta(days=2)\n",
    "print(daysago_2.strftime(\"%Y-%m-%d\"))\n",
    "daysago_3 = today - timedelta(days=3)\n",
    "print(daysago_3.strftime(\"%Y-%m-%d\"))"
   ]
  },
  {
   "cell_type": "code",
   "execution_count": 20,
   "metadata": {
    "collapsed": false
   },
   "outputs": [
    {
     "data": {
      "text/plain": [
       "datetime.date(2016, 8, 14)"
      ]
     },
     "execution_count": 20,
     "metadata": {},
     "output_type": "execute_result"
    }
   ],
   "source": [
    "# Try using the datetime.date object\n",
    "todaydate = datetime.now().date()\n",
    "todaydate"
   ]
  },
  {
   "cell_type": "code",
   "execution_count": 25,
   "metadata": {
    "collapsed": false
   },
   "outputs": [
    {
     "name": "stdout",
     "output_type": "stream",
     "text": [
      "2016-08-13\n"
     ]
    },
    {
     "data": {
      "text/plain": [
       "'2016-08-13'"
      ]
     },
     "execution_count": 25,
     "metadata": {},
     "output_type": "execute_result"
    }
   ],
   "source": [
    "# Define some previous days\n",
    "daysagodate_1 = todaydate - timedelta(days=1)\n",
    "print(daysagodate_1)\n",
    "daysagodate_1.strftime(\"%Y-%m-%d\")"
   ]
  },
  {
   "cell_type": "code",
   "execution_count": 29,
   "metadata": {
    "collapsed": false
   },
   "outputs": [
    {
     "data": {
      "text/plain": [
       "<_sre.SRE_Match object; span=(2, 12), match='2016-08-09'>"
      ]
     },
     "execution_count": 29,
     "metadata": {},
     "output_type": "execute_result"
    }
   ],
   "source": [
    "# Extract first date from a string using regex\n",
    "temp = \"x 2016-08-09 and some other text\"\n",
    "match = re.search(r'\\d{4}-\\d{2}-\\d{2}', temp)\n",
    "match"
   ]
  },
  {
   "cell_type": "code",
   "execution_count": 30,
   "metadata": {
    "collapsed": false
   },
   "outputs": [
    {
     "data": {
      "text/plain": [
       "<_sre.SRE_Match object; span=(2, 12), match='2016-08-09'>"
      ]
     },
     "execution_count": 30,
     "metadata": {},
     "output_type": "execute_result"
    }
   ],
   "source": [
    "temp = \"x 2016-08-09 2016-08-08 and some other text\"\n",
    "match = re.search(r'\\d{4}-\\d{2}-\\d{2}', temp)\n",
    "match"
   ]
  },
  {
   "cell_type": "code",
   "execution_count": 41,
   "metadata": {
    "collapsed": false
   },
   "outputs": [
    {
     "name": "stdout",
     "output_type": "stream",
     "text": [
      "2016-08-09\n"
     ]
    },
    {
     "data": {
      "text/plain": [
       "datetime.date(2016, 8, 9)"
      ]
     },
     "execution_count": 41,
     "metadata": {},
     "output_type": "execute_result"
    }
   ],
   "source": [
    "date = datetime.strptime(match.group(), '%Y-%m-%d').date()\n",
    "print(date.strftime(\"%Y-%m-%d\"))\n",
    "date"
   ]
  },
  {
   "cell_type": "code",
   "execution_count": 42,
   "metadata": {
    "collapsed": true
   },
   "outputs": [],
   "source": [
    "def getdate(s):\n",
    "    \"\"\"\n",
    "    Return the first date contained in input string 's' \n",
    "    as a string (YYYY-MM-DD) and as a datetime.date object.\n",
    "    \"\"\"\n",
    "    match = re.search(r'\\d{4}-\\d{2}-\\d{2}', s)\n",
    "    date = datetime.strptime(match.group(), '%Y-%m-%d').date()\n",
    "    return date.strftime(\"%Y-%m-%d\"), date"
   ]
  },
  {
   "cell_type": "code",
   "execution_count": 43,
   "metadata": {
    "collapsed": false
   },
   "outputs": [
    {
     "data": {
      "text/plain": [
       "('2016-08-09', datetime.date(2016, 8, 9))"
      ]
     },
     "execution_count": 43,
     "metadata": {},
     "output_type": "execute_result"
    }
   ],
   "source": [
    "getdate(temp)"
   ]
  },
  {
   "cell_type": "code",
   "execution_count": 44,
   "metadata": {
    "collapsed": false
   },
   "outputs": [
    {
     "data": {
      "text/plain": [
       "'2016-08-09'"
      ]
     },
     "execution_count": 44,
     "metadata": {},
     "output_type": "execute_result"
    }
   ],
   "source": [
    "getdate(temp)[0]"
   ]
  },
  {
   "cell_type": "code",
   "execution_count": null,
   "metadata": {
    "collapsed": true
   },
   "outputs": [],
   "source": []
  }
 ],
 "metadata": {
  "anaconda-cloud": {},
  "kernelspec": {
   "display_name": "Python [Root]",
   "language": "python",
   "name": "Python [Root]"
  },
  "language_info": {
   "codemirror_mode": {
    "name": "ipython",
    "version": 3
   },
   "file_extension": ".py",
   "mimetype": "text/x-python",
   "name": "python",
   "nbconvert_exporter": "python",
   "pygments_lexer": "ipython3",
   "version": "3.5.2"
  }
 },
 "nbformat": 4,
 "nbformat_minor": 0
}

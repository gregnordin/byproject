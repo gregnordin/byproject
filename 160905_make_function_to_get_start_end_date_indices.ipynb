{
 "cells": [
  {
   "cell_type": "code",
   "execution_count": 1,
   "metadata": {
    "collapsed": true
   },
   "outputs": [],
   "source": [
    "from datetime import datetime, timedelta\n",
    "import re"
   ]
  },
  {
   "cell_type": "code",
   "execution_count": 2,
   "metadata": {
    "collapsed": true
   },
   "outputs": [],
   "source": [
    "def get_date_from_line(s):\n",
    "    \"\"\"\n",
    "    Return the first date contained in input string 's'\n",
    "    as a datetime.date object.\n",
    "    \"\"\"\n",
    "    match = re.search(r'\\d{4}-\\d{2}-\\d{2}', s)\n",
    "    date = datetime.strptime(match.group(), '%Y-%m-%d').date()\n",
    "    return date\n",
    "\n",
    "def validate_date(date_text):\n",
    "    try:\n",
    "        return datetime.strptime(date_text, '%Y-%m-%d').date()\n",
    "    except ValueError:\n",
    "        raise ValueError(\"Incorrect data format, should be YYYY-MM-DD\")"
   ]
  },
  {
   "cell_type": "code",
   "execution_count": 3,
   "metadata": {
    "collapsed": true
   },
   "outputs": [],
   "source": [
    "testdates = [\n",
    "    \"x 2016-04-28\",\n",
    "    \"x 2016-05-01\",\n",
    "    \"x 2016-05-03\",\n",
    "    \"x 2016-05-31\",\n",
    "    \"x 2016-06-03\",\n",
    "    \"x 2016-06-05\",\n",
    "    \"x 2016-06-29\",\n",
    "    \"x 2016-07-05\",\n",
    "    \"x 2016-07-15\",\n",
    "    \"x 2016-07-16\",\n",
    "    \"x 2016-07-17\"\n",
    "]\n",
    "\n",
    "def print_testdates():\n",
    "    for index, s in enumerate(testdates):\n",
    "        print(index, s)"
   ]
  },
  {
   "cell_type": "code",
   "execution_count": 4,
   "metadata": {
    "collapsed": false
   },
   "outputs": [],
   "source": [
    "def get_start_and_end_dates_indices(lines, startdate, enddate):\n",
    "    \"\"\"\n",
    "    Return index of the first occurrence of startdate and index of \n",
    "    the last occurrence of enddate in the array of strings, `lines`.\n",
    "    \n",
    "    Arguments:\n",
    "        lines - array of strings. Somewhere in each string is a date\n",
    "                with format YYYY-MM-DD. Assume `lines` is sorted in\n",
    "                ASCENDING date order (i.e., oldest date first and newest\n",
    "                date last).\n",
    "        startdate, enddate - datetime object for DATES (not both date and time)\n",
    "    \"\"\"\n",
    "    if startdate > enddate:\n",
    "        raise RuntimeError(\"start date is after end date\")\n",
    "    index_start_date = -999\n",
    "    for index, line in enumerate(lines):\n",
    "        temp_date = get_date_from_line(line)\n",
    "        if index_start_date == -999:\n",
    "            if temp_date >= startdate:\n",
    "                index_start_date = index\n",
    "                index_end_date = index\n",
    "        else:\n",
    "            if temp_date > enddate:\n",
    "                index_end_date = index - 1\n",
    "                break\n",
    "            elif index == len(lines) - 1:\n",
    "                index_end_date = -1\n",
    "\n",
    "    return index_start_date, index_end_date"
   ]
  },
  {
   "cell_type": "code",
   "execution_count": 5,
   "metadata": {
    "collapsed": false
   },
   "outputs": [],
   "source": [
    "def test_function(start, end):\n",
    "    startdate = validate_date(start)\n",
    "    enddate = validate_date(end)\n",
    "\n",
    "    tempstart, tempend = get_start_and_end_dates_indices(testdates, startdate, enddate)\n",
    "\n",
    "    print_testdates()\n",
    "    print(\"----- Date Range: {} to {} -----\".format(startdate, enddate))\n",
    "    print(tempstart, testdates[tempstart])\n",
    "    print(tempend, testdates[tempend])"
   ]
  },
  {
   "cell_type": "code",
   "execution_count": 6,
   "metadata": {
    "collapsed": false
   },
   "outputs": [
    {
     "ename": "RuntimeError",
     "evalue": "start date is after end date",
     "output_type": "error",
     "traceback": [
      "\u001b[0;31m---------------------------------------------------------------------------\u001b[0m",
      "\u001b[0;31mRuntimeError\u001b[0m                              Traceback (most recent call last)",
      "\u001b[0;32m<ipython-input-6-3ebadaedbe7e>\u001b[0m in \u001b[0;36m<module>\u001b[0;34m()\u001b[0m\n\u001b[0;32m----> 1\u001b[0;31m \u001b[0mtest_function\u001b[0m\u001b[0;34m(\u001b[0m\u001b[0;34m\"2016-06-01\"\u001b[0m\u001b[0;34m,\u001b[0m \u001b[0;34m\"2016-05-31\"\u001b[0m\u001b[0;34m)\u001b[0m\u001b[0;34m\u001b[0m\u001b[0m\n\u001b[0m",
      "\u001b[0;32m<ipython-input-5-0b6b68ab0d85>\u001b[0m in \u001b[0;36mtest_function\u001b[0;34m(start, end)\u001b[0m\n\u001b[1;32m      3\u001b[0m     \u001b[0menddate\u001b[0m \u001b[0;34m=\u001b[0m \u001b[0mvalidate_date\u001b[0m\u001b[0;34m(\u001b[0m\u001b[0mend\u001b[0m\u001b[0;34m)\u001b[0m\u001b[0;34m\u001b[0m\u001b[0m\n\u001b[1;32m      4\u001b[0m \u001b[0;34m\u001b[0m\u001b[0m\n\u001b[0;32m----> 5\u001b[0;31m     \u001b[0mtempstart\u001b[0m\u001b[0;34m,\u001b[0m \u001b[0mtempend\u001b[0m \u001b[0;34m=\u001b[0m \u001b[0mget_start_and_end_dates_indices\u001b[0m\u001b[0;34m(\u001b[0m\u001b[0mtestdates\u001b[0m\u001b[0;34m,\u001b[0m \u001b[0mstartdate\u001b[0m\u001b[0;34m,\u001b[0m \u001b[0menddate\u001b[0m\u001b[0;34m)\u001b[0m\u001b[0;34m\u001b[0m\u001b[0m\n\u001b[0m\u001b[1;32m      6\u001b[0m \u001b[0;34m\u001b[0m\u001b[0m\n\u001b[1;32m      7\u001b[0m     \u001b[0mprint_testdates\u001b[0m\u001b[0;34m(\u001b[0m\u001b[0;34m)\u001b[0m\u001b[0;34m\u001b[0m\u001b[0m\n",
      "\u001b[0;32m<ipython-input-4-5de3eeb69b56>\u001b[0m in \u001b[0;36mget_start_and_end_dates_indices\u001b[0;34m(lines, startdate, enddate)\u001b[0m\n\u001b[1;32m     12\u001b[0m     \"\"\"\n\u001b[1;32m     13\u001b[0m     \u001b[0;32mif\u001b[0m \u001b[0mstartdate\u001b[0m \u001b[0;34m>\u001b[0m \u001b[0menddate\u001b[0m\u001b[0;34m:\u001b[0m\u001b[0;34m\u001b[0m\u001b[0m\n\u001b[0;32m---> 14\u001b[0;31m         \u001b[0;32mraise\u001b[0m \u001b[0mRuntimeError\u001b[0m\u001b[0;34m(\u001b[0m\u001b[0;34m\"start date is after end date\"\u001b[0m\u001b[0;34m)\u001b[0m\u001b[0;34m\u001b[0m\u001b[0m\n\u001b[0m\u001b[1;32m     15\u001b[0m     \u001b[0mindex_start_date\u001b[0m \u001b[0;34m=\u001b[0m \u001b[0;34m-\u001b[0m\u001b[0;36m999\u001b[0m\u001b[0;34m\u001b[0m\u001b[0m\n\u001b[1;32m     16\u001b[0m     \u001b[0;32mfor\u001b[0m \u001b[0mindex\u001b[0m\u001b[0;34m,\u001b[0m \u001b[0mline\u001b[0m \u001b[0;32min\u001b[0m \u001b[0menumerate\u001b[0m\u001b[0;34m(\u001b[0m\u001b[0mlines\u001b[0m\u001b[0;34m)\u001b[0m\u001b[0;34m:\u001b[0m\u001b[0;34m\u001b[0m\u001b[0m\n",
      "\u001b[0;31mRuntimeError\u001b[0m: start date is after end date"
     ]
    }
   ],
   "source": [
    "test_function(\"2016-06-01\", \"2016-05-31\")"
   ]
  },
  {
   "cell_type": "code",
   "execution_count": 7,
   "metadata": {
    "collapsed": false
   },
   "outputs": [
    {
     "name": "stdout",
     "output_type": "stream",
     "text": [
      "0 x 2016-04-28\n",
      "1 x 2016-05-01\n",
      "2 x 2016-05-03\n",
      "3 x 2016-05-31\n",
      "4 x 2016-06-03\n",
      "5 x 2016-06-05\n",
      "6 x 2016-06-29\n",
      "7 x 2016-07-05\n",
      "8 x 2016-07-15\n",
      "9 x 2016-07-16\n",
      "10 x 2016-07-17\n",
      "----- Date Range: 2016-05-01 to 2016-05-31 -----\n",
      "1 x 2016-05-01\n",
      "3 x 2016-05-31\n"
     ]
    }
   ],
   "source": [
    "test_function(\"2016-05-01\", \"2016-05-31\")"
   ]
  },
  {
   "cell_type": "code",
   "execution_count": 8,
   "metadata": {
    "collapsed": false
   },
   "outputs": [
    {
     "name": "stdout",
     "output_type": "stream",
     "text": [
      "0 x 2016-04-28\n",
      "1 x 2016-05-01\n",
      "2 x 2016-05-03\n",
      "3 x 2016-05-31\n",
      "4 x 2016-06-03\n",
      "5 x 2016-06-05\n",
      "6 x 2016-06-29\n",
      "7 x 2016-07-05\n",
      "8 x 2016-07-15\n",
      "9 x 2016-07-16\n",
      "10 x 2016-07-17\n",
      "----- Date Range: 2016-04-20 to 2016-05-05 -----\n",
      "0 x 2016-04-28\n",
      "2 x 2016-05-03\n"
     ]
    }
   ],
   "source": [
    "test_function(\"2016-04-20\", \"2016-05-05\")"
   ]
  },
  {
   "cell_type": "code",
   "execution_count": 9,
   "metadata": {
    "collapsed": false
   },
   "outputs": [
    {
     "name": "stdout",
     "output_type": "stream",
     "text": [
      "0 x 2016-04-28\n",
      "1 x 2016-05-01\n",
      "2 x 2016-05-03\n",
      "3 x 2016-05-31\n",
      "4 x 2016-06-03\n",
      "5 x 2016-06-05\n",
      "6 x 2016-06-29\n",
      "7 x 2016-07-05\n",
      "8 x 2016-07-15\n",
      "9 x 2016-07-16\n",
      "10 x 2016-07-17\n",
      "----- Date Range: 2016-06-01 to 2016-06-30 -----\n",
      "4 x 2016-06-03\n",
      "6 x 2016-06-29\n"
     ]
    }
   ],
   "source": [
    "test_function(\"2016-06-01\", \"2016-06-30\")"
   ]
  },
  {
   "cell_type": "code",
   "execution_count": 10,
   "metadata": {
    "collapsed": false
   },
   "outputs": [
    {
     "name": "stdout",
     "output_type": "stream",
     "text": [
      "0 x 2016-04-28\n",
      "1 x 2016-05-01\n",
      "2 x 2016-05-03\n",
      "3 x 2016-05-31\n",
      "4 x 2016-06-03\n",
      "5 x 2016-06-05\n",
      "6 x 2016-06-29\n",
      "7 x 2016-07-05\n",
      "8 x 2016-07-15\n",
      "9 x 2016-07-16\n",
      "10 x 2016-07-17\n",
      "----- Date Range: 2016-07-06 to 2016-07-16 -----\n",
      "8 x 2016-07-15\n",
      "9 x 2016-07-16\n"
     ]
    }
   ],
   "source": [
    "test_function(\"2016-07-06\", \"2016-07-16\")"
   ]
  },
  {
   "cell_type": "code",
   "execution_count": 11,
   "metadata": {
    "collapsed": false
   },
   "outputs": [
    {
     "name": "stdout",
     "output_type": "stream",
     "text": [
      "0 x 2016-04-28\n",
      "1 x 2016-05-01\n",
      "2 x 2016-05-03\n",
      "3 x 2016-05-31\n",
      "4 x 2016-06-03\n",
      "5 x 2016-06-05\n",
      "6 x 2016-06-29\n",
      "7 x 2016-07-05\n",
      "8 x 2016-07-15\n",
      "9 x 2016-07-16\n",
      "10 x 2016-07-17\n",
      "----- Date Range: 2016-07-06 to 2016-07-15 -----\n",
      "8 x 2016-07-15\n",
      "8 x 2016-07-15\n"
     ]
    }
   ],
   "source": [
    "test_function(\"2016-07-06\", \"2016-07-15\")"
   ]
  },
  {
   "cell_type": "code",
   "execution_count": 12,
   "metadata": {
    "collapsed": false
   },
   "outputs": [
    {
     "name": "stdout",
     "output_type": "stream",
     "text": [
      "0 x 2016-04-28\n",
      "1 x 2016-05-01\n",
      "2 x 2016-05-03\n",
      "3 x 2016-05-31\n",
      "4 x 2016-06-03\n",
      "5 x 2016-06-05\n",
      "6 x 2016-06-29\n",
      "7 x 2016-07-05\n",
      "8 x 2016-07-15\n",
      "9 x 2016-07-16\n",
      "10 x 2016-07-17\n",
      "----- Date Range: 2016-06-20 to 2016-07-15 -----\n",
      "6 x 2016-06-29\n",
      "8 x 2016-07-15\n"
     ]
    }
   ],
   "source": [
    "test_function(\"2016-06-20\", \"2016-07-15\")"
   ]
  },
  {
   "cell_type": "code",
   "execution_count": null,
   "metadata": {
    "collapsed": true
   },
   "outputs": [],
   "source": []
  }
 ],
 "metadata": {
  "anaconda-cloud": {},
  "kernelspec": {
   "display_name": "Python [Root]",
   "language": "python",
   "name": "Python [Root]"
  },
  "language_info": {
   "codemirror_mode": {
    "name": "ipython",
    "version": 3
   },
   "file_extension": ".py",
   "mimetype": "text/x-python",
   "name": "python",
   "nbconvert_exporter": "python",
   "pygments_lexer": "ipython3",
   "version": "3.5.2"
  }
 },
 "nbformat": 4,
 "nbformat_minor": 0
}

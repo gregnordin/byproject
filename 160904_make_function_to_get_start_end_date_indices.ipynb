{
 "cells": [
  {
   "cell_type": "code",
   "execution_count": 1,
   "metadata": {
    "collapsed": true
   },
   "outputs": [],
   "source": [
    "from datetime import datetime, timedelta\n",
    "import re"
   ]
  },
  {
   "cell_type": "code",
   "execution_count": 1,
   "metadata": {
    "collapsed": true
   },
   "outputs": [],
   "source": [
    "fname = \"testfile.txt\"\n",
    "\n",
    "with open(fname, 'r') as f:\n",
    "    contents = f.read()\n",
    "    \n",
    "with open(fname, 'r') as f:\n",
    "    lines = f.readlines()"
   ]
  },
  {
   "cell_type": "code",
   "execution_count": 3,
   "metadata": {
    "collapsed": false
   },
   "outputs": [
    {
     "data": {
      "text/plain": [
       "'x 2016-08-26 2016-08-26 Begin to analyze optical engine grey scale data +make3dprinter\\nx 2016-08-27 2016-08-27 Haircut +personal\\nx 2016-08-27 2016-08-27 $120 to folks for repair of Lynette\\'s car +home\\nx 2016-08-27 2016-08-27 Take care of Nicole\\'s health insurance for BYU +home\\nx 2016-08-27 2016-08-27 Look into Allen Taflove\\'s book Computational Electromagnetics +work\\nx 2016-08-27 2016-08-27 Check lab PC for most recent light engine data +make3dprinter\\nx 2016-08-27 2016-08-27 Prep 301 for Monday +ecen301f16\\nx 2016-08-27 2016-08-27 Look into freshman introductory electrical engineering curriculum ideas +work\\nx 2016-08-27 2016-08-27 Analyze Hua\\'s optical engine data for fidelity of optical gray scale +make3dprinter\\nx 2016-08-29 2016-08-12 Make hotel reservation for Friday night Oct. 7 in Dublin +microtas2016\\nx 2016-08-29 2016-08-29 Do week review and planning +work\\nx 2016-08-29 2016-08-29 Record ideas about Pres Worthen and Elder Kim Clark\\'s talks, and about setting up my own blog +work\\nx 2016-08-29 2016-08-29 Get xy stage quote from Bill Griffin and update budget +nsfproposal_1610\\nx 2016-08-29 2016-08-29 Prep 301 +ecen301f16\\nx 2016-08-29 2016-08-27 Go over Hua\\'s analysis of greyscale data +make3dprinter\\nx 2016-08-29 2016-08-29 Meet with 301 TAs and get schedule & responsibilities set up +ecen301f16\\nx 2016-08-29 2016-08-29 Handle lots of email +work\\nx 2016-08-29 2016-08-29 Set up group meeting for tommorrow with Adam Woolley +work\\nx 2016-08-29 2016-08-29 Scheduled DARPA phone call on Sep 8 conflicts with ECEn 191. Send email to reschedule +proposals\\nx 2016-08-29 2016-08-29 Learn how to convert jupyter notebooks to html (use nbconvert) +work\\nx 2016-08-29 2016-08-29 Look into getting my own domain name (nordinweb.org?) +work\\nx 2016-08-29 2016-08-29 Register domain gregnordin.net with dreamhost.com +work\\nx 2016-08-29 2016-08-29 Download caddy and start playing with it +work\\nx 2016-08-29 2016-08-29 Read caddy docs to come up with a way to use it to serve blog pages +work\\nx 2016-08-29 2016-08-29 Look for free bootstrap blog site templates +work\\nx 2016-08-29 2016-08-29 Look into BYU Domains for website hosting +work\\nx 2016-08-30 2016-08-30 Work with Hua in lab on high speed mirror array measurement +make3dprinter\\nx 2016-08-30 2016-08-30 Get updated by Steven Perry on his progress +ce-lif\\nx 2016-08-30 2016-08-30 Meet with new Chinese MS student, Ethan (Jing Yao), for whom I am the temporary advisor +students\\nx 2016-08-30 2016-08-30 Get updated by Mike Beauchamp on his progress +3dprintedmicrofluidics\\nx 2016-08-30 2016-08-30 Nicole drop by my office & go over her classes with me +home\\nx 2016-08-30 2016-08-29 Don & Joe in the shop: ME student hired? +make3dprinter\\nx 2016-08-30 2016-08-30 Correspond with new ME faculty Troy Munro about putting quantum dots in our resin to measure temperature with fluorescence +work\\nx 2016-08-30 2016-08-30 Continue working on developing a blog site--figure out how caddy markdown templates work +work\\nx 2016-08-30 2016-08-30 Start looking into DreamHost services for my new domain gregnordin.net--still don\\'t know how to point domain to a 3rd party server +work\\nx 2016-08-30 2016-08-30 Review 301 lecture notes for tomorrow +ecen301f16\\nx 2016-08-30 2016-08-23 Download and go over powerpoint files for ECEn 191 +ecen191f16\\nx 2016-08-30 2016-08-29 Go over ECEn 191 printed materials +ecen191f16\\nx 2016-08-30 2016-08-30 Try various bootstrap themes with blog site +work\\nx 2016-08-31 2016-08-31 Fix content in 301 Learning Suite Content tabs +ecen301f16\\nx 2016-08-31 2016-08-31 Prep 301 +ecen301f16\\nx 2016-08-31 2016-08-31 Record 301 +ecen301f16\\nx 2016-08-31 2016-08-31 Record senior project discussion +seniorproject\\nx 2016-08-31 2016-08-31 Change INR appointment +personal\\nx 2016-08-31 2016-08-30 Meet with new shop ME student employee, David Graham, to get him started on project +make3dprinter\\nx 2016-08-31 2016-08-31 Send David Graham optical engine .step file +make3dprinter\\nx 2016-08-31 2016-08-31 Meet with Hua and get update on status +make3dprinter\\nx 2016-08-31 2016-08-31 Meet with Dane Smith about his research plans +students\\nx 2016-08-31 2016-08-31 Prep 191 +ecen191f16\\nx 2016-09-01 2016-09-01 Prepare for first class of ECEn 191 today +ecen191f16\\nx 2016-09-01 2016-09-01 Analyze ECEn 191 students (majors, year in school, etc.) +ecen191f16\\nx 2016-09-01 2016-09-01 New idea about calculating the image plane irradiance for our optical engine +make3dprinter\\nx 2016-09-01 2016-09-01 Handle email, especially from students +work\\nx 2016-09-02 2016-09-02 Look at college research development seminars for September that I can attend to help look for funding +proposals\\nx 2016-09-02 2016-09-02 Think through NSF proposal content and direction +nsfproposal_1610\\nx 2016-09-02 2016-09-02 Reach out to Conrad Monson for help in finding additional funding possiblities +proposals\\nx 2016-09-02 2016-09-02 Enlist Sarah Dickson\\u200b\\'s help in the Research Development Office to find funding opportunities for our 3D printed microfluidics +proposals\\nx 2016-09-02 2016-09-02 Arrange for TAs to score and record quizzes +ecen301f16\\nx 2016-09-02 2016-09-02 Literature search on biocompatible resins +3dprintedmicrofluidics\\nx 2016-09-02 2016-09-02 Prep quizzes for 301 today +ecen301f16\\nx 2016-09-02 2016-09-02 Meet with Hua and go over optical engine timing data and plan further experiments +make3dprinter\\nx 2016-09-02 2016-09-02 Check on Steven Perry\\'s progress--he is moving set up +ce-lif\\nx 2016-09-02 2016-09-02 Nefi Oliva--create 497R research class for him to work on 3D printe microfluidics +students\\nx 2016-09-02 2016-09-02 Prep 301 lecture +ecen301f16\\nx 2016-09-02 2016-09-02 Plan & review 301 lectures for next week +ecen301f16\\nx 2016-09-02 2016-09-02 Record 301 for today +ecen301f16\\nx 2016-09-02 2016-09-02 Meet with prospective undergraduate researcher Terrence Smith who is in my 191 class +students\\nx 2016-09-02 2016-09-02 Record 191 for yesterday +ecen191f16\\nx 2016-09-02 2016-09-02 Review my diffraction notes from my Physical Optics class +3dprintedmicrofluidics\\nx 2016-09-02 2016-09-02 Go through Goodman book on incoherent image formation +3dprintedmicrofluidics\\nx 2016-09-02 2016-09-02 Email Jason Weaver in MET at BYU about his 3D printing work and connection with Sandia +proposals\\nx 2016-09-02 2016-09-02 Get back with Conrad Monson about developing more contacts about possible funding for our work +proposals\\nx 2016-09-02 2016-09-02 Calculate extrapolation of MTF data and start to develop algorithm +3dprintedmicrofluidics\\nx 2016-09-02 2016-09-02 Start how to calculate irradiance in image plane of optical engine +3dprintedmicrofluidics\\nx 2016-09-03 2016-09-03 Finish the bash tutorial at http://linuxcommand.org +work\\nx 2016-09-03 2016-09-03 Get book \"The Linux Command Line\" by William Shotts +work\\nx 2016-09-03 2016-09-03 Monthly bills +home\\nx 2016-09-03 2016-09-03 Tithing & offerings +home\\nx 2016-09-03 2016-09-03 Analyze and adjust tax withholding +home\\nx 2016-09-03 2016-09-03 Check out new_script, a Bash shell script template generator +work\\nx 2016-09-04 2016-09-04 Sign up for familysearch parter access +church\\nx 2016-09-04 2016-08-16 Watch video with Aaron: Ugo A. Perego - All Abraham’s Children: A Genetic Perspective +home\\nx 2016-09-04 2016-08-25 Crash Tuomisto listed on cub scout list so scout office can transfer to the troop +scouts\\n'"
      ]
     },
     "execution_count": 3,
     "metadata": {},
     "output_type": "execute_result"
    }
   ],
   "source": [
    "contents"
   ]
  },
  {
   "cell_type": "code",
   "execution_count": 4,
   "metadata": {
    "collapsed": false
   },
   "outputs": [
    {
     "data": {
      "text/plain": [
       "['x 2016-08-26 2016-08-26 Begin to analyze optical engine grey scale data +make3dprinter\\n',\n",
       " 'x 2016-08-27 2016-08-27 Haircut +personal\\n',\n",
       " \"x 2016-08-27 2016-08-27 $120 to folks for repair of Lynette's car +home\\n\",\n",
       " \"x 2016-08-27 2016-08-27 Take care of Nicole's health insurance for BYU +home\\n\",\n",
       " \"x 2016-08-27 2016-08-27 Look into Allen Taflove's book Computational Electromagnetics +work\\n\",\n",
       " 'x 2016-08-27 2016-08-27 Check lab PC for most recent light engine data +make3dprinter\\n',\n",
       " 'x 2016-08-27 2016-08-27 Prep 301 for Monday +ecen301f16\\n',\n",
       " 'x 2016-08-27 2016-08-27 Look into freshman introductory electrical engineering curriculum ideas +work\\n',\n",
       " \"x 2016-08-27 2016-08-27 Analyze Hua's optical engine data for fidelity of optical gray scale +make3dprinter\\n\",\n",
       " 'x 2016-08-29 2016-08-12 Make hotel reservation for Friday night Oct. 7 in Dublin +microtas2016\\n',\n",
       " 'x 2016-08-29 2016-08-29 Do week review and planning +work\\n',\n",
       " \"x 2016-08-29 2016-08-29 Record ideas about Pres Worthen and Elder Kim Clark's talks, and about setting up my own blog +work\\n\",\n",
       " 'x 2016-08-29 2016-08-29 Get xy stage quote from Bill Griffin and update budget +nsfproposal_1610\\n',\n",
       " 'x 2016-08-29 2016-08-29 Prep 301 +ecen301f16\\n',\n",
       " \"x 2016-08-29 2016-08-27 Go over Hua's analysis of greyscale data +make3dprinter\\n\",\n",
       " 'x 2016-08-29 2016-08-29 Meet with 301 TAs and get schedule & responsibilities set up +ecen301f16\\n',\n",
       " 'x 2016-08-29 2016-08-29 Handle lots of email +work\\n',\n",
       " 'x 2016-08-29 2016-08-29 Set up group meeting for tommorrow with Adam Woolley +work\\n',\n",
       " 'x 2016-08-29 2016-08-29 Scheduled DARPA phone call on Sep 8 conflicts with ECEn 191. Send email to reschedule +proposals\\n',\n",
       " 'x 2016-08-29 2016-08-29 Learn how to convert jupyter notebooks to html (use nbconvert) +work\\n',\n",
       " 'x 2016-08-29 2016-08-29 Look into getting my own domain name (nordinweb.org?) +work\\n',\n",
       " 'x 2016-08-29 2016-08-29 Register domain gregnordin.net with dreamhost.com +work\\n',\n",
       " 'x 2016-08-29 2016-08-29 Download caddy and start playing with it +work\\n',\n",
       " 'x 2016-08-29 2016-08-29 Read caddy docs to come up with a way to use it to serve blog pages +work\\n',\n",
       " 'x 2016-08-29 2016-08-29 Look for free bootstrap blog site templates +work\\n',\n",
       " 'x 2016-08-29 2016-08-29 Look into BYU Domains for website hosting +work\\n',\n",
       " 'x 2016-08-30 2016-08-30 Work with Hua in lab on high speed mirror array measurement +make3dprinter\\n',\n",
       " 'x 2016-08-30 2016-08-30 Get updated by Steven Perry on his progress +ce-lif\\n',\n",
       " 'x 2016-08-30 2016-08-30 Meet with new Chinese MS student, Ethan (Jing Yao), for whom I am the temporary advisor +students\\n',\n",
       " 'x 2016-08-30 2016-08-30 Get updated by Mike Beauchamp on his progress +3dprintedmicrofluidics\\n',\n",
       " 'x 2016-08-30 2016-08-30 Nicole drop by my office & go over her classes with me +home\\n',\n",
       " 'x 2016-08-30 2016-08-29 Don & Joe in the shop: ME student hired? +make3dprinter\\n',\n",
       " 'x 2016-08-30 2016-08-30 Correspond with new ME faculty Troy Munro about putting quantum dots in our resin to measure temperature with fluorescence +work\\n',\n",
       " 'x 2016-08-30 2016-08-30 Continue working on developing a blog site--figure out how caddy markdown templates work +work\\n',\n",
       " \"x 2016-08-30 2016-08-30 Start looking into DreamHost services for my new domain gregnordin.net--still don't know how to point domain to a 3rd party server +work\\n\",\n",
       " 'x 2016-08-30 2016-08-30 Review 301 lecture notes for tomorrow +ecen301f16\\n',\n",
       " 'x 2016-08-30 2016-08-23 Download and go over powerpoint files for ECEn 191 +ecen191f16\\n',\n",
       " 'x 2016-08-30 2016-08-29 Go over ECEn 191 printed materials +ecen191f16\\n',\n",
       " 'x 2016-08-30 2016-08-30 Try various bootstrap themes with blog site +work\\n',\n",
       " 'x 2016-08-31 2016-08-31 Fix content in 301 Learning Suite Content tabs +ecen301f16\\n',\n",
       " 'x 2016-08-31 2016-08-31 Prep 301 +ecen301f16\\n',\n",
       " 'x 2016-08-31 2016-08-31 Record 301 +ecen301f16\\n',\n",
       " 'x 2016-08-31 2016-08-31 Record senior project discussion +seniorproject\\n',\n",
       " 'x 2016-08-31 2016-08-31 Change INR appointment +personal\\n',\n",
       " 'x 2016-08-31 2016-08-30 Meet with new shop ME student employee, David Graham, to get him started on project +make3dprinter\\n',\n",
       " 'x 2016-08-31 2016-08-31 Send David Graham optical engine .step file +make3dprinter\\n',\n",
       " 'x 2016-08-31 2016-08-31 Meet with Hua and get update on status +make3dprinter\\n',\n",
       " 'x 2016-08-31 2016-08-31 Meet with Dane Smith about his research plans +students\\n',\n",
       " 'x 2016-08-31 2016-08-31 Prep 191 +ecen191f16\\n',\n",
       " 'x 2016-09-01 2016-09-01 Prepare for first class of ECEn 191 today +ecen191f16\\n',\n",
       " 'x 2016-09-01 2016-09-01 Analyze ECEn 191 students (majors, year in school, etc.) +ecen191f16\\n',\n",
       " 'x 2016-09-01 2016-09-01 New idea about calculating the image plane irradiance for our optical engine +make3dprinter\\n',\n",
       " 'x 2016-09-01 2016-09-01 Handle email, especially from students +work\\n',\n",
       " 'x 2016-09-02 2016-09-02 Look at college research development seminars for September that I can attend to help look for funding +proposals\\n',\n",
       " 'x 2016-09-02 2016-09-02 Think through NSF proposal content and direction +nsfproposal_1610\\n',\n",
       " 'x 2016-09-02 2016-09-02 Reach out to Conrad Monson for help in finding additional funding possiblities +proposals\\n',\n",
       " \"x 2016-09-02 2016-09-02 Enlist Sarah Dickson\\u200b's help in the Research Development Office to find funding opportunities for our 3D printed microfluidics +proposals\\n\",\n",
       " 'x 2016-09-02 2016-09-02 Arrange for TAs to score and record quizzes +ecen301f16\\n',\n",
       " 'x 2016-09-02 2016-09-02 Literature search on biocompatible resins +3dprintedmicrofluidics\\n',\n",
       " 'x 2016-09-02 2016-09-02 Prep quizzes for 301 today +ecen301f16\\n',\n",
       " 'x 2016-09-02 2016-09-02 Meet with Hua and go over optical engine timing data and plan further experiments +make3dprinter\\n',\n",
       " \"x 2016-09-02 2016-09-02 Check on Steven Perry's progress--he is moving set up +ce-lif\\n\",\n",
       " 'x 2016-09-02 2016-09-02 Nefi Oliva--create 497R research class for him to work on 3D printe microfluidics +students\\n',\n",
       " 'x 2016-09-02 2016-09-02 Prep 301 lecture +ecen301f16\\n',\n",
       " 'x 2016-09-02 2016-09-02 Plan & review 301 lectures for next week +ecen301f16\\n',\n",
       " 'x 2016-09-02 2016-09-02 Record 301 for today +ecen301f16\\n',\n",
       " 'x 2016-09-02 2016-09-02 Meet with prospective undergraduate researcher Terrence Smith who is in my 191 class +students\\n',\n",
       " 'x 2016-09-02 2016-09-02 Record 191 for yesterday +ecen191f16\\n',\n",
       " 'x 2016-09-02 2016-09-02 Review my diffraction notes from my Physical Optics class +3dprintedmicrofluidics\\n',\n",
       " 'x 2016-09-02 2016-09-02 Go through Goodman book on incoherent image formation +3dprintedmicrofluidics\\n',\n",
       " 'x 2016-09-02 2016-09-02 Email Jason Weaver in MET at BYU about his 3D printing work and connection with Sandia +proposals\\n',\n",
       " 'x 2016-09-02 2016-09-02 Get back with Conrad Monson about developing more contacts about possible funding for our work +proposals\\n',\n",
       " 'x 2016-09-02 2016-09-02 Calculate extrapolation of MTF data and start to develop algorithm +3dprintedmicrofluidics\\n',\n",
       " 'x 2016-09-02 2016-09-02 Start how to calculate irradiance in image plane of optical engine +3dprintedmicrofluidics\\n',\n",
       " 'x 2016-09-03 2016-09-03 Finish the bash tutorial at http://linuxcommand.org +work\\n',\n",
       " 'x 2016-09-03 2016-09-03 Get book \"The Linux Command Line\" by William Shotts +work\\n',\n",
       " 'x 2016-09-03 2016-09-03 Monthly bills +home\\n',\n",
       " 'x 2016-09-03 2016-09-03 Tithing & offerings +home\\n',\n",
       " 'x 2016-09-03 2016-09-03 Analyze and adjust tax withholding +home\\n',\n",
       " 'x 2016-09-03 2016-09-03 Check out new_script, a Bash shell script template generator +work\\n',\n",
       " 'x 2016-09-04 2016-09-04 Sign up for familysearch parter access +church\\n',\n",
       " 'x 2016-09-04 2016-08-16 Watch video with Aaron: Ugo A. Perego - All Abraham’s Children: A Genetic Perspective +home\\n',\n",
       " 'x 2016-09-04 2016-08-25 Crash Tuomisto listed on cub scout list so scout office can transfer to the troop +scouts\\n']"
      ]
     },
     "execution_count": 4,
     "metadata": {},
     "output_type": "execute_result"
    }
   ],
   "source": [
    "lines"
   ]
  },
  {
   "cell_type": "code",
   "execution_count": 7,
   "metadata": {
    "collapsed": true
   },
   "outputs": [],
   "source": [
    "def getdate(s):\n",
    "    \"\"\"\n",
    "    Return the first date contained in input string 's'\n",
    "    as a datetime.date object.\n",
    "    \"\"\"\n",
    "    match = re.search(r'\\d{4}-\\d{2}-\\d{2}', s)\n",
    "    date = datetime.strptime(match.group(), '%Y-%m-%d').date()\n",
    "    return date"
   ]
  },
  {
   "cell_type": "code",
   "execution_count": 19,
   "metadata": {
    "collapsed": false
   },
   "outputs": [
    {
     "name": "stdout",
     "output_type": "stream",
     "text": [
      "Date range: 2016-09-03 to 2016-09-04\n"
     ]
    }
   ],
   "source": [
    "previous_days = 1\n",
    "today = datetime.now().date()\n",
    "startdate = today - timedelta(days=previous_days)\n",
    "startdate_string = startdate.strftime(\"%Y-%m-%d\")\n",
    "enddate = today\n",
    "print('Date range:', startdate, 'to', enddate)"
   ]
  },
  {
   "cell_type": "code",
   "execution_count": 20,
   "metadata": {
    "collapsed": false
   },
   "outputs": [
    {
     "name": "stdout",
     "output_type": "stream",
     "text": [
      "74 2016-09-03\n",
      "75 2016-09-03\n",
      "76 2016-09-03\n",
      "77 2016-09-03\n",
      "78 2016-09-03\n",
      "79 2016-09-03\n"
     ]
    }
   ],
   "source": [
    "index_start_date = 0\n",
    "index_end_date = 0\n",
    "for index, line in enumerate(lines):\n",
    "    temp_date = getdate(line)\n",
    "    if temp_date == startdate:\n",
    "        print(index, temp_date)"
   ]
  },
  {
   "cell_type": "markdown",
   "metadata": {},
   "source": [
    "### We need the first occurrence of startdate and the last occurrence of enddate\n",
    "Get startdate"
   ]
  },
  {
   "cell_type": "code",
   "execution_count": 21,
   "metadata": {
    "collapsed": false
   },
   "outputs": [
    {
     "name": "stdout",
     "output_type": "stream",
     "text": [
      "74 2016-09-03\n"
     ]
    }
   ],
   "source": [
    "index_start_date = 0\n",
    "for index, line in enumerate(lines):\n",
    "    temp_date = getdate(line)\n",
    "    if temp_date == startdate:\n",
    "        print(index, temp_date)\n",
    "        break"
   ]
  },
  {
   "cell_type": "markdown",
   "metadata": {},
   "source": [
    "Now get startdate without using `break` statement"
   ]
  },
  {
   "cell_type": "code",
   "execution_count": 26,
   "metadata": {
    "collapsed": false
   },
   "outputs": [
    {
     "name": "stdout",
     "output_type": "stream",
     "text": [
      "74 74 2016-09-03\n"
     ]
    }
   ],
   "source": [
    "index_start_date = 0\n",
    "for index, line in enumerate(lines):\n",
    "    temp_date = getdate(line)\n",
    "    if temp_date == startdate and index_start_date == 0:\n",
    "        index_start_date = index\n",
    "        print(index, index_start_date, temp_date)"
   ]
  },
  {
   "cell_type": "markdown",
   "metadata": {},
   "source": [
    "Now get enddate"
   ]
  },
  {
   "cell_type": "code",
   "execution_count": 22,
   "metadata": {
    "collapsed": false
   },
   "outputs": [
    {
     "name": "stdout",
     "output_type": "stream",
     "text": [
      "82 -1\n"
     ]
    }
   ],
   "source": [
    "index_end_date = 0\n",
    "for index, line in enumerate(lines):\n",
    "    temp_date = getdate(line)\n",
    "    if temp_date == enddate + timedelta(days=1):\n",
    "        print(index, temp_date)\n",
    "    elif index == len(lines)-1:\n",
    "        print(index, \"-1\")"
   ]
  },
  {
   "cell_type": "code",
   "execution_count": 23,
   "metadata": {
    "collapsed": false
   },
   "outputs": [
    {
     "data": {
      "text/plain": [
       "83"
      ]
     },
     "execution_count": 23,
     "metadata": {},
     "output_type": "execute_result"
    }
   ],
   "source": [
    "len(lines)"
   ]
  },
  {
   "cell_type": "code",
   "execution_count": 24,
   "metadata": {
    "collapsed": false
   },
   "outputs": [
    {
     "data": {
      "text/plain": [
       "'x 2016-09-04 2016-08-25 Crash Tuomisto listed on cub scout list so scout office can transfer to the troop +scouts\\n'"
      ]
     },
     "execution_count": 24,
     "metadata": {},
     "output_type": "execute_result"
    }
   ],
   "source": [
    "lines[82]"
   ]
  },
  {
   "cell_type": "code",
   "execution_count": 25,
   "metadata": {
    "collapsed": false
   },
   "outputs": [
    {
     "data": {
      "text/plain": [
       "'x 2016-09-04 2016-08-25 Crash Tuomisto listed on cub scout list so scout office can transfer to the troop +scouts\\n'"
      ]
     },
     "execution_count": 25,
     "metadata": {},
     "output_type": "execute_result"
    }
   ],
   "source": [
    "lines[-1]"
   ]
  },
  {
   "cell_type": "markdown",
   "metadata": {},
   "source": [
    "Get both startdate and enddate in the same for loop"
   ]
  },
  {
   "cell_type": "code",
   "execution_count": 27,
   "metadata": {
    "collapsed": false
   },
   "outputs": [
    {
     "name": "stdout",
     "output_type": "stream",
     "text": [
      "74 74 2016-09-03\n",
      "82 -1 2016-09-04\n"
     ]
    }
   ],
   "source": [
    "index_start_date = 0\n",
    "index_end_date = 0\n",
    "for index, line in enumerate(lines):\n",
    "    temp_date = getdate(line)\n",
    "    if temp_date == startdate and index_start_date == 0:\n",
    "        index_start_date = index\n",
    "        print(index, index_start_date, temp_date)\n",
    "    elif temp_date == enddate + timedelta(days=1):\n",
    "        index_end_date = index\n",
    "        print(index, index_end_date, temp_date)\n",
    "    elif index == len(lines)-1:\n",
    "        index_end_date = -1\n",
    "        print(index, index_end_date, temp_date)"
   ]
  },
  {
   "cell_type": "code",
   "execution_count": 30,
   "metadata": {
    "collapsed": false
   },
   "outputs": [
    {
     "name": "stdout",
     "output_type": "stream",
     "text": [
      "49 49 2016-09-01\n",
      "80 80 2016-09-04\n"
     ]
    }
   ],
   "source": [
    "startdate = today - timedelta(days=3)\n",
    "enddate = today - timedelta(days=1)\n",
    "\n",
    "index_start_date = 0\n",
    "index_end_date = 0\n",
    "for index, line in enumerate(lines):\n",
    "    temp_date = getdate(line)\n",
    "    if temp_date == startdate and index_start_date == 0:\n",
    "        index_start_date = index\n",
    "        print(index, index_start_date, temp_date)\n",
    "    elif temp_date == enddate + timedelta(days=1) and index_end_date == 0:\n",
    "        index_end_date = index\n",
    "        print(index, index_end_date, temp_date)\n",
    "    elif index == len(lines)-1 and index_end_date == 0:\n",
    "        index_end_date = -1\n",
    "        print(index, index_end_date, temp_date)"
   ]
  },
  {
   "cell_type": "code",
   "execution_count": 31,
   "metadata": {
    "collapsed": false
   },
   "outputs": [
    {
     "name": "stdout",
     "output_type": "stream",
     "text": [
      "['x 2016-08-31 2016-08-31 Prep 191 +ecen191f16\\n', 'x 2016-09-01 2016-09-01 Prepare for first class of ECEn 191 today +ecen191f16\\n']\n"
     ]
    }
   ],
   "source": [
    "print(lines[48:51])"
   ]
  },
  {
   "cell_type": "code",
   "execution_count": 33,
   "metadata": {
    "collapsed": false
   },
   "outputs": [
    {
     "name": "stdout",
     "output_type": "stream",
     "text": [
      "['x 2016-09-03 2016-09-03 Check out new_script, a Bash shell script template generator +work\\n', 'x 2016-09-04 2016-09-04 Sign up for familysearch parter access +church\\n', 'x 2016-09-04 2016-08-16 Watch video with Aaron: Ugo A. Perego - All Abraham’s Children: A Genetic Perspective +home\\n']\n"
     ]
    }
   ],
   "source": [
    "print(lines[79:82])"
   ]
  },
  {
   "cell_type": "markdown",
   "metadata": {},
   "source": [
    "Now make it into a function"
   ]
  },
  {
   "cell_type": "code",
   "execution_count": 34,
   "metadata": {
    "collapsed": true
   },
   "outputs": [],
   "source": [
    "def get_start_and_end_dates_indices(lines, startdate, enddate):\n",
    "    \"\"\"\n",
    "    Return the index of the first occurrence of startdate and last\n",
    "    occurrence of enddate in the array of strings, lines.\n",
    "    \n",
    "    Arguments:\n",
    "        lines - array of strings. Somewhere in each string is a date\n",
    "                with format YYYY-MM-DD\n",
    "        startdate, enddate - datetime object for DATES (not date and time)\n",
    "    \"\"\"\n",
    "    index_start_date = 0\n",
    "    index_end_date = 0\n",
    "    continue_search_start_date = True\n",
    "    for index, line in enumerate(lines):\n",
    "        temp_date = getdate(line)\n",
    "        if temp_date == startdate and index_start_date == 0:\n",
    "            index_start_date = index\n",
    "        elif temp_date == enddate + timedelta(days=1) and index_end_date == 0:\n",
    "            index_end_date = index\n",
    "        elif index == len(lines)-1 and index_end_date == 0:\n",
    "            index_end_date = -1\n",
    "    return index_start_date, index_end_date"
   ]
  },
  {
   "cell_type": "code",
   "execution_count": 35,
   "metadata": {
    "collapsed": false
   },
   "outputs": [
    {
     "data": {
      "text/plain": [
       "(49, 80)"
      ]
     },
     "execution_count": 35,
     "metadata": {},
     "output_type": "execute_result"
    }
   ],
   "source": [
    "startdate = today - timedelta(days=3)\n",
    "enddate = today - timedelta(days=1)\n",
    "\n",
    "get_start_and_end_dates_indices(lines, startdate, enddate)"
   ]
  },
  {
   "cell_type": "code",
   "execution_count": 52,
   "metadata": {
    "collapsed": false
   },
   "outputs": [
    {
     "name": "stdout",
     "output_type": "stream",
     "text": [
      "2016-08-31 2016-09-02\n",
      "39 2016-08-31 x 2016-08-31 2016-08-31 Fix content in 301 Learning Suite Content tabs +ecen301f16\n",
      "\n",
      "x 2016-08-30 2016-08-30 Try various bootstrap themes with blog site +work\n",
      "x 2016-08-31 2016-08-31 Fix content in 301 Learning Suite Content tabs +ecen301f16\n",
      "x 2016-08-31 2016-08-31 Prep 301 +ecen301f16\n",
      "\n",
      "\n",
      "74 2016-09-02 x 2016-09-03 2016-09-03 Finish the bash tutorial at http://linuxcommand.org +work\n",
      "\n",
      "x 2016-09-02 2016-09-02 Start how to calculate irradiance in image plane of optical engine +3dprintedmicrofluidics\n",
      "x 2016-09-03 2016-09-03 Finish the bash tutorial at http://linuxcommand.org +work\n",
      "x 2016-09-03 2016-09-03 Get book \"The Linux Command Line\" by William Shotts +work\n",
      "\n"
     ]
    }
   ],
   "source": [
    "startdate = today - timedelta(days=4)\n",
    "enddate = today - timedelta(days=2)\n",
    "\n",
    "startline, endline = get_start_and_end_dates_indices(lines, startdate, enddate)\n",
    "\n",
    "print(startline, startdate, lines[startline])\n",
    "print(*lines[startline-1:startline+2], sep='')\n",
    "print(\"\")\n",
    "print(endline, enddate, lines[endline])\n",
    "print(*lines[endline-1:endline+2], sep='')"
   ]
  },
  {
   "cell_type": "code",
   "execution_count": 53,
   "metadata": {
    "collapsed": false
   },
   "outputs": [
    {
     "name": "stdout",
     "output_type": "stream",
     "text": [
      "9 2016-08-29 x 2016-08-29 2016-08-12 Make hotel reservation for Friday night Oct. 7 in Dublin +microtas2016\n",
      "\n",
      "x 2016-08-27 2016-08-27 Analyze Hua's optical engine data for fidelity of optical gray scale +make3dprinter\n",
      "x 2016-08-29 2016-08-12 Make hotel reservation for Friday night Oct. 7 in Dublin +microtas2016\n",
      "x 2016-08-29 2016-08-29 Do week review and planning +work\n",
      "\n",
      "\n",
      "39 2016-08-30 x 2016-08-31 2016-08-31 Fix content in 301 Learning Suite Content tabs +ecen301f16\n",
      "\n",
      "x 2016-08-30 2016-08-30 Try various bootstrap themes with blog site +work\n",
      "x 2016-08-31 2016-08-31 Fix content in 301 Learning Suite Content tabs +ecen301f16\n",
      "x 2016-08-31 2016-08-31 Prep 301 +ecen301f16\n",
      "\n"
     ]
    }
   ],
   "source": [
    "startdate = today - timedelta(days=6)\n",
    "enddate = today - timedelta(days=5)\n",
    "\n",
    "startline, endline = get_start_and_end_dates_indices(lines, startdate, enddate)\n",
    "\n",
    "print(startline, startdate, lines[startline])\n",
    "print(*lines[startline-1:startline+2], sep='')\n",
    "print(\"\")\n",
    "print(endline, enddate, lines[endline])\n",
    "print(*lines[endline-1:endline+2], sep='')"
   ]
  },
  {
   "cell_type": "code",
   "execution_count": 54,
   "metadata": {
    "collapsed": false
   },
   "outputs": [
    {
     "name": "stdout",
     "output_type": "stream",
     "text": [
      "0 2016-08-28 x 2016-08-26 2016-08-26 Begin to analyze optical engine grey scale data +make3dprinter\n",
      "\n",
      "\n",
      "\n",
      "39 2016-08-30 x 2016-08-31 2016-08-31 Fix content in 301 Learning Suite Content tabs +ecen301f16\n",
      "\n",
      "x 2016-08-30 2016-08-30 Try various bootstrap themes with blog site +work\n",
      "x 2016-08-31 2016-08-31 Fix content in 301 Learning Suite Content tabs +ecen301f16\n",
      "x 2016-08-31 2016-08-31 Prep 301 +ecen301f16\n",
      "\n"
     ]
    }
   ],
   "source": [
    "startdate = today - timedelta(days=7)\n",
    "enddate = today - timedelta(days=5)\n",
    "\n",
    "startline, endline = get_start_and_end_dates_indices(lines, startdate, enddate)\n",
    "\n",
    "print(startline, startdate, lines[startline])\n",
    "print(*lines[startline-1:startline+2], sep='')\n",
    "print(\"\")\n",
    "print(endline, enddate, lines[endline])\n",
    "print(*lines[endline-1:endline+2], sep='')"
   ]
  },
  {
   "cell_type": "markdown",
   "metadata": {},
   "source": [
    "## Non-corner cases\n",
    "\n",
    "Assume that every date exists in the file with at least one item\n",
    "\n",
    "**Tried it and does not work. I must consider corner cases**"
   ]
  },
  {
   "cell_type": "markdown",
   "metadata": {},
   "source": [
    "## Corner Cases\n",
    "\n",
    "**Assume lines in files are always ordered by descending finish date**\n",
    "\n",
    "Now we need to resolve the problem of how to handle things when the start date or end date are not in the lines being searched. In this case we should have:\n",
    "\n",
    "- start date does not exist: use the next start date that does exist and which is before the end date\n",
    "- end date does not exist: use the last item for the latest date that does exist before the end date\n",
    "\n",
    "Start date is the first occurrence of a date that is on or after the start date but before the end date.\n",
    "\n",
    "End date is the last occurrence of a date that is before or on the end date.\n",
    "\n",
    "So we could have an algorithm that goes like this:\n",
    "\n",
    "    \n",
    "    find start date\n",
    "        true: look for end date\n",
    "        false: no items between start and end dates\n",
    "\n",
    "\n",
    "    if start date has not yet been found (found flag is false)\n",
    "        is date equal to start date and before or equal to end date?\n",
    "            true: set start date to date and set start date found flag to true\n",
    "    else find end date\n",
    "    \n",
    "    else\n",
    "        no items found between start date and end date\n",
    "\n",
    "Also, what about the case in which there are no items between the start date and end date??"
   ]
  },
  {
   "cell_type": "markdown",
   "metadata": {},
   "source": [
    "**Restart kernel here and run import cell and cell with definition for getdate() above and then cells below**"
   ]
  },
  {
   "cell_type": "code",
   "execution_count": 5,
   "metadata": {
    "collapsed": true
   },
   "outputs": [],
   "source": [
    "def validate_date(date_text):\n",
    "    try:\n",
    "        return datetime.strptime(date_text, '%Y-%m-%d').date()\n",
    "    except ValueError:\n",
    "        raise ValueError(\"Incorrect data format, should be YYYY-MM-DD\")"
   ]
  },
  {
   "cell_type": "code",
   "execution_count": 3,
   "metadata": {
    "collapsed": true
   },
   "outputs": [],
   "source": [
    "def get_start_and_end_dates_indices(lines, startdate, enddate):\n",
    "    \"\"\"\n",
    "    Return the index of the first occurrence of startdate and last\n",
    "    occurrence of enddate in the array of strings, lines.\n",
    "    \n",
    "    Arguments:\n",
    "        lines - array of strings. Somewhere in each string is a date\n",
    "                with format YYYY-MM-DD\n",
    "        startdate, enddate - datetime object for DATES (not date and time)\n",
    "    \"\"\"\n",
    "    index_start_date = 0\n",
    "    index_end_date = 0\n",
    "    continue_search_start_date = True\n",
    "    for index, line in enumerate(lines):\n",
    "        temp_date = getdate(line)\n",
    "        if temp_date == startdate and index_start_date == 0:\n",
    "            index_start_date = index\n",
    "        elif temp_date == enddate + timedelta(days=1) and index_end_date == 0:\n",
    "            index_end_date = index\n",
    "        elif index == len(lines)-1 and index_end_date == 0:\n",
    "            index_end_date = -1\n",
    "    return index_start_date, index_end_date"
   ]
  },
  {
   "cell_type": "code",
   "execution_count": 4,
   "metadata": {
    "collapsed": true
   },
   "outputs": [],
   "source": [
    "testdates = [\n",
    "    \"x 2016-05-01\",\n",
    "    \"x 2016-05-03\",\n",
    "    \"x 2016-05-31\",\n",
    "    \"x 2016-06-03\",\n",
    "    \"x 2016-06-05\",\n",
    "    \"x 2016-06-29\"\n",
    "]"
   ]
  },
  {
   "cell_type": "code",
   "execution_count": 8,
   "metadata": {
    "collapsed": false
   },
   "outputs": [
    {
     "data": {
      "text/plain": [
       "(0, -1)"
      ]
     },
     "execution_count": 8,
     "metadata": {},
     "output_type": "execute_result"
    }
   ],
   "source": [
    "startdate = validate_date(\"2016-05-01\")\n",
    "enddate = validate_date(\"2016-05-31\")\n",
    "\n",
    "get_start_and_end_dates_indices(testdates, startdate, enddate)"
   ]
  },
  {
   "cell_type": "markdown",
   "metadata": {},
   "source": [
    "    startdatefound = False\n",
    "    enddatefound = False\n",
    "\n",
    "    if !startdatefound:\n",
    "        find start date\n",
    "    else \n",
    "        find end date"
   ]
  },
  {
   "cell_type": "code",
   "execution_count": null,
   "metadata": {
    "collapsed": true
   },
   "outputs": [],
   "source": []
  }
 ],
 "metadata": {
  "anaconda-cloud": {},
  "kernelspec": {
   "display_name": "Python [Root]",
   "language": "python",
   "name": "Python [Root]"
  },
  "language_info": {
   "codemirror_mode": {
    "name": "ipython",
    "version": 3
   },
   "file_extension": ".py",
   "mimetype": "text/x-python",
   "name": "python",
   "nbconvert_exporter": "python",
   "pygments_lexer": "ipython3",
   "version": "3.5.2"
  }
 },
 "nbformat": 4,
 "nbformat_minor": 0
}

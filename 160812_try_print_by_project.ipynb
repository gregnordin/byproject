{
 "cells": [
  {
   "cell_type": "markdown",
   "metadata": {},
   "source": [
    "# Purpose\n",
    "\n",
    "Start from answer to stackexchange question [Sorting todo.txt lines by its properties](http://stackoverflow.com/questions/30501609/sorting-todo-txt-lines-by-its-properties) and be able to show contents of todo.txt and subsets of done.txt categorized by project within each day. Also be able to show contents under project headings arranged in chronological order."
   ]
  },
  {
   "cell_type": "code",
   "execution_count": 1,
   "metadata": {
    "collapsed": true
   },
   "outputs": [],
   "source": [
    "import re\n",
    "import collections\n",
    "import sys\n",
    "from pprint import pprint"
   ]
  },
  {
   "cell_type": "code",
   "execution_count": 2,
   "metadata": {
    "collapsed": true
   },
   "outputs": [],
   "source": [
    "fname = \"/Users/nordin/Dropbox/todo/todo.txt\"\n",
    "jobs = {}\n",
    "myset = set()"
   ]
  },
  {
   "cell_type": "code",
   "execution_count": 3,
   "metadata": {
    "collapsed": true
   },
   "outputs": [],
   "source": [
    "#Recursive printing. Also orders the dictionary and removes zzz\n",
    "def rprint(d):\n",
    "    a = collections.OrderedDict(sorted(d.items()))\n",
    "    for key, value in iter(a.items()):\n",
    "        if isinstance(value, dict):\n",
    "            rprint(value)\n",
    "        else:\n",
    "            # check to see if the line is a repitition, this can occour\n",
    "            # when a line has more than one priority/project/context.\n",
    "            for line in value:\n",
    "                if line not in myset:\n",
    "                    print( str(line) )\n",
    "                    myset.add(line)"
   ]
  },
  {
   "cell_type": "code",
   "execution_count": 4,
   "metadata": {
    "collapsed": false
   },
   "outputs": [
    {
     "name": "stdout",
     "output_type": "stream",
     "text": [
      "2016-08-12 Copy BoM notes from Tyler Griffen class on 2nd half of BoM +church\n",
      "2016-08-12 temp +church\n",
      "2016-08-09 Order strain gauge +make3Dprinter\n",
      "2016-08-12 Send Merck trip receipts to Merck +merck\n",
      "2016-08-12 Make hotel reservation for Friday night Oct. 7 in Dublin +microtas2016\n",
      "2016-08-09 Look up NSF proposal requirements +nsfproposal_1610\n",
      "2016-08-09 Start white paper for ARL and DARPA +whitepaper\n",
      "2016-08-10 Blog post on my todo.txt set up +work\n"
     ]
    }
   ],
   "source": [
    "with open(fname) as f:\n",
    "    for line in f:\n",
    "\n",
    "        line = line.strip()\n",
    "        words = line.split(' ')\n",
    "        priority = [word for word in words if re.match('^\\([A-Z]\\)',word)]\n",
    "        context = [word for word in words if word.startswith('@')]\n",
    "        project = [word for word in words if word.startswith('+')]\n",
    "\n",
    "        #Need to make sure that there is always a key otherwise it will cause \n",
    "        #the dict issues, set key to zzz so that it will appear at the bottom when sorted\n",
    "        if not priority: priority = [\"zzz\"]\n",
    "        if not project:  project = [\"zzz\"]\n",
    "        if not context:  context = [\"zzz\"]\n",
    "\n",
    "        for i in context:\n",
    "            for j in project:\n",
    "                for k in priority:\n",
    "\n",
    "                    if i not in jobs:\n",
    "                        jobs[i] = {}\n",
    "                    if j not in jobs[i]:\n",
    "                        jobs[i][j] = {}\n",
    "                    if k not in jobs[i][j]:\n",
    "                        jobs[i][j][k] = []\n",
    "\n",
    "                    jobs[i][j][k].append(line)\n",
    "\n",
    "    rprint(jobs)"
   ]
  },
  {
   "cell_type": "code",
   "execution_count": 5,
   "metadata": {
    "collapsed": false
   },
   "outputs": [
    {
     "name": "stdout",
     "output_type": "stream",
     "text": [
      "{'zzz': {'+church': {'zzz': ['2016-08-12 Copy BoM notes from Tyler Griffen '\n",
      "                             'class on 2nd half of BoM +church',\n",
      "                             '2016-08-12 temp +church']},\n",
      "         '+make3Dprinter': {'zzz': ['2016-08-09 Order strain gauge '\n",
      "                                    '+make3Dprinter']},\n",
      "         '+merck': {'zzz': ['2016-08-12 Send Merck trip receipts to Merck '\n",
      "                            '+merck']},\n",
      "         '+microtas2016': {'zzz': ['2016-08-12 Make hotel reservation for '\n",
      "                                   'Friday night Oct. 7 in Dublin '\n",
      "                                   '+microtas2016']},\n",
      "         '+nsfproposal_1610': {'zzz': ['2016-08-09 Look up NSF proposal '\n",
      "                                       'requirements +nsfproposal_1610']},\n",
      "         '+whitepaper': {'zzz': ['2016-08-09 Start white paper for ARL and '\n",
      "                                 'DARPA +whitepaper']},\n",
      "         '+work': {'zzz': ['2016-08-10 Blog post on my todo.txt set up '\n",
      "                           '+work']}}}\n"
     ]
    }
   ],
   "source": [
    "pprint(jobs)"
   ]
  },
  {
   "cell_type": "code",
   "execution_count": 6,
   "metadata": {
    "collapsed": false
   },
   "outputs": [
    {
     "data": {
      "text/plain": [
       "['+church']"
      ]
     },
     "execution_count": 6,
     "metadata": {},
     "output_type": "execute_result"
    }
   ],
   "source": [
    "project"
   ]
  },
  {
   "cell_type": "code",
   "execution_count": 7,
   "metadata": {
    "collapsed": false
   },
   "outputs": [
    {
     "name": "stdout",
     "output_type": "stream",
     "text": [
      "2016-08-09 Order strain gauge +make3Dprinter\r\n",
      "2016-08-09 Start white paper for ARL and DARPA +whitepaper\r\n",
      "2016-08-09 Look up NSF proposal requirements +nsfproposal_1610\r\n",
      "2016-08-10 Blog post on my todo.txt set up +work\r\n",
      "2016-08-12 Copy BoM notes from Tyler Griffen class on 2nd half of BoM +church\r\n",
      "2016-08-12 Send Merck trip receipts to Merck +merck\r\n",
      "2016-08-12 Make hotel reservation for Friday night Oct. 7 in Dublin +microtas2016\r\n",
      "2016-08-12 temp +church\r\n"
     ]
    }
   ],
   "source": [
    "!cat $fname"
   ]
  },
  {
   "cell_type": "code",
   "execution_count": 8,
   "metadata": {
    "collapsed": false
   },
   "outputs": [
    {
     "data": {
      "text/plain": [
       "['zzz']"
      ]
     },
     "execution_count": 8,
     "metadata": {},
     "output_type": "execute_result"
    }
   ],
   "source": [
    "priority"
   ]
  },
  {
   "cell_type": "code",
   "execution_count": 9,
   "metadata": {
    "collapsed": false
   },
   "outputs": [
    {
     "data": {
      "text/plain": [
       "['zzz']"
      ]
     },
     "execution_count": 9,
     "metadata": {},
     "output_type": "execute_result"
    }
   ],
   "source": [
    "context"
   ]
  },
  {
   "cell_type": "code",
   "execution_count": 10,
   "metadata": {
    "collapsed": false
   },
   "outputs": [
    {
     "data": {
      "text/plain": [
       "['2016-08-12 Send Merck trip receipts to Merck +merck']"
      ]
     },
     "execution_count": 10,
     "metadata": {},
     "output_type": "execute_result"
    }
   ],
   "source": [
    "jobs['zzz']['+merck']['zzz']"
   ]
  },
  {
   "cell_type": "code",
   "execution_count": 11,
   "metadata": {
    "collapsed": false
   },
   "outputs": [
    {
     "data": {
      "text/plain": [
       "['2016-08-12 Copy BoM notes from Tyler Griffen class on 2nd half of BoM +church',\n",
       " '2016-08-12 temp +church']"
      ]
     },
     "execution_count": 11,
     "metadata": {},
     "output_type": "execute_result"
    }
   ],
   "source": [
    "jobs['zzz']['+church']['zzz']"
   ]
  },
  {
   "cell_type": "code",
   "execution_count": 12,
   "metadata": {
    "collapsed": false
   },
   "outputs": [
    {
     "name": "stdout",
     "output_type": "stream",
     "text": [
      "zzz {'+whitepaper': {'zzz': ['2016-08-09 Start white paper for ARL and DARPA +whitepaper']}, '+nsfproposal_1610': {'zzz': ['2016-08-09 Look up NSF proposal requirements +nsfproposal_1610']}, '+make3Dprinter': {'zzz': ['2016-08-09 Order strain gauge +make3Dprinter']}, '+work': {'zzz': ['2016-08-10 Blog post on my todo.txt set up +work']}, '+merck': {'zzz': ['2016-08-12 Send Merck trip receipts to Merck +merck']}, '+microtas2016': {'zzz': ['2016-08-12 Make hotel reservation for Friday night Oct. 7 in Dublin +microtas2016']}, '+church': {'zzz': ['2016-08-12 Copy BoM notes from Tyler Griffen class on 2nd half of BoM +church', '2016-08-12 temp +church']}} \n",
      "\n"
     ]
    }
   ],
   "source": [
    "for key, value in iter(jobs.items()):\n",
    "    print(key, value, '\\n')"
   ]
  },
  {
   "cell_type": "markdown",
   "metadata": {},
   "source": [
    "## Adapt to my workflow\n",
    "\n",
    "* &#9989; Ignore context and priority for now\n",
    "* &#9989; Ignore tasks with multiple project labels. Just use first one.\n",
    "* &#9989; I need to assign a project of `no_assigned_project` to tasks without a project label\n",
    "* Use color with project names?\n",
    "* Make it work for done.txt\n",
    "    * set a date for it to work on\n",
    "    * or a date range\n",
    "    * or number of days before today\n",
    "* How run script from the command line with few characters?\n",
    "* How handle command line arguments?"
   ]
  },
  {
   "cell_type": "code",
   "execution_count": 48,
   "metadata": {
    "collapsed": false
   },
   "outputs": [
    {
     "name": "stdout",
     "output_type": "stream",
     "text": [
      "\n",
      "jobs-----------------\n",
      "\n",
      "{'no_assigned_project': ['2016-08-13 test no assigned project'], '+whitepaper': ['2016-08-09 Start white paper for ARL and DARPA +whitepaper'], '+nsfproposal_1610': ['2016-08-09 Look up NSF proposal requirements +nsfproposal_1610'], '+make3Dprinter': ['2016-08-09 Order strain gauge +make3Dprinter'], '+work': ['2016-08-10 Blog post on my todo.txt set up +work'], '+merck': ['2016-08-12 Send Merck trip receipts to Merck +merck'], '+microtas2016': ['2016-08-12 Make hotel reservation for Friday night Oct. 7 in Dublin +microtas2016'], '+church': ['2016-08-12 Copy BoM notes from Tyler Griffen class on 2nd half of BoM +church', '2016-08-12 temp +church']}\n",
      "\n",
      "sorted(jobs)---------\n",
      "\n",
      "['+church', '+make3Dprinter', '+merck', '+microtas2016', '+nsfproposal_1610', '+whitepaper', '+work', 'no_assigned_project']\n",
      "\n",
      "output---------------\n",
      "\n",
      "+church\n",
      "     2016-08-12 Copy BoM notes from Tyler Griffen class on 2nd half of BoM +church\n",
      "     2016-08-12 temp +church\n",
      "+make3Dprinter\n",
      "     2016-08-09 Order strain gauge +make3Dprinter\n",
      "+merck\n",
      "     2016-08-12 Send Merck trip receipts to Merck +merck\n",
      "+microtas2016\n",
      "     2016-08-12 Make hotel reservation for Friday night Oct. 7 in Dublin +microtas2016\n",
      "+nsfproposal_1610\n",
      "     2016-08-09 Look up NSF proposal requirements +nsfproposal_1610\n",
      "+whitepaper\n",
      "     2016-08-09 Start white paper for ARL and DARPA +whitepaper\n",
      "+work\n",
      "     2016-08-10 Blog post on my todo.txt set up +work\n",
      "no_assigned_project\n",
      "     2016-08-13 test no assigned project\n"
     ]
    }
   ],
   "source": [
    "jobs = {}\n",
    "todo_items = []\n",
    "split_line = re.compile('; |, |: |\\s')\n",
    "with open(fname) as f:\n",
    "    for line in f:\n",
    "        line = line.strip()\n",
    "        todo_items.append(line)\n",
    "        words = split_line.split(line)\n",
    "        # Get first instance of a word that starts with '+'\n",
    "        project = next((word for word in words if word.startswith('+')), 'no_assigned_project')\n",
    "        #print(project, line)\n",
    "        if project not in jobs:\n",
    "            jobs[project] = []\n",
    "        jobs[project].append(line)\n",
    "        \n",
    "    print('\\njobs-----------------\\n')\n",
    "    print(jobs)\n",
    "    print('\\nsorted(jobs)---------\\n')\n",
    "    print(sorted(jobs))\n",
    "    print('\\noutput---------------\\n')\n",
    "    for proj in sorted(jobs):\n",
    "        print(proj)\n",
    "        for item in jobs[proj]:\n",
    "            print('    ', item)"
   ]
  },
  {
   "cell_type": "code",
   "execution_count": 20,
   "metadata": {
    "collapsed": false
   },
   "outputs": [
    {
     "data": {
      "text/plain": [
       "['2016-08-09 Order strain gauge +make3Dprinter',\n",
       " '2016-08-09 Start white paper for ARL and DARPA +whitepaper',\n",
       " '2016-08-09 Look up NSF proposal requirements +nsfproposal_1610',\n",
       " '2016-08-10 Blog post on my todo.txt set up +work',\n",
       " '2016-08-12 Copy BoM notes from Tyler Griffen class on 2nd half of BoM +church',\n",
       " '2016-08-12 Send Merck trip receipts to Merck +merck',\n",
       " '2016-08-12 Make hotel reservation for Friday night Oct. 7 in Dublin +microtas2016',\n",
       " '2016-08-12 temp +church',\n",
       " '2016-08-13 test no assigned project']"
      ]
     },
     "execution_count": 20,
     "metadata": {},
     "output_type": "execute_result"
    }
   ],
   "source": [
    "todo_items"
   ]
  },
  {
   "cell_type": "code",
   "execution_count": 26,
   "metadata": {
    "collapsed": false
   },
   "outputs": [
    {
     "name": "stdout",
     "output_type": "stream",
     "text": [
      "{'+church': ['2016-08-12 Copy BoM notes from Tyler Griffen class on 2nd half '\n",
      "             'of BoM +church',\n",
      "             '2016-08-12 temp +church'],\n",
      " '+make3Dprinter': ['2016-08-09 Order strain gauge +make3Dprinter'],\n",
      " '+merck': ['2016-08-12 Send Merck trip receipts to Merck +merck'],\n",
      " '+microtas2016': ['2016-08-12 Make hotel reservation for Friday night Oct. 7 '\n",
      "                   'in Dublin +microtas2016'],\n",
      " '+nsfproposal_1610': ['2016-08-09 Look up NSF proposal requirements '\n",
      "                       '+nsfproposal_1610'],\n",
      " '+whitepaper': ['2016-08-09 Start white paper for ARL and DARPA +whitepaper'],\n",
      " '+work': ['2016-08-10 Blog post on my todo.txt set up +work'],\n",
      " 'no_assigned_project': ['2016-08-13 test no assigned project']}\n"
     ]
    }
   ],
   "source": [
    "pprint(jobs)"
   ]
  },
  {
   "cell_type": "code",
   "execution_count": 27,
   "metadata": {
    "collapsed": false
   },
   "outputs": [
    {
     "data": {
      "text/plain": [
       "{'+church': ['2016-08-12 Copy BoM notes from Tyler Griffen class on 2nd half of BoM +church',\n",
       "  '2016-08-12 temp +church'],\n",
       " '+make3Dprinter': ['2016-08-09 Order strain gauge +make3Dprinter'],\n",
       " '+merck': ['2016-08-12 Send Merck trip receipts to Merck +merck'],\n",
       " '+microtas2016': ['2016-08-12 Make hotel reservation for Friday night Oct. 7 in Dublin +microtas2016'],\n",
       " '+nsfproposal_1610': ['2016-08-09 Look up NSF proposal requirements +nsfproposal_1610'],\n",
       " '+whitepaper': ['2016-08-09 Start white paper for ARL and DARPA +whitepaper'],\n",
       " '+work': ['2016-08-10 Blog post on my todo.txt set up +work'],\n",
       " 'no_assigned_project': ['2016-08-13 test no assigned project']}"
      ]
     },
     "execution_count": 27,
     "metadata": {},
     "output_type": "execute_result"
    }
   ],
   "source": [
    "jobs"
   ]
  },
  {
   "cell_type": "code",
   "execution_count": 29,
   "metadata": {
    "collapsed": false
   },
   "outputs": [
    {
     "data": {
      "text/plain": [
       "['+church',\n",
       " '+make3Dprinter',\n",
       " '+merck',\n",
       " '+microtas2016',\n",
       " '+nsfproposal_1610',\n",
       " '+whitepaper',\n",
       " '+work',\n",
       " 'no_assigned_project']"
      ]
     },
     "execution_count": 29,
     "metadata": {},
     "output_type": "execute_result"
    }
   ],
   "source": [
    "sorted(jobs)"
   ]
  },
  {
   "cell_type": "code",
   "execution_count": 38,
   "metadata": {
    "collapsed": false
   },
   "outputs": [
    {
     "data": {
      "text/plain": [
       "['2016-08-09 Order strain gauge +make3Dprinter',\n",
       " '2016-08-09 Start white paper for ARL and DARPA +whitepaper',\n",
       " '2016-08-09 Look up NSF proposal requirements +nsfproposal_1610',\n",
       " '2016-08-10 Blog post on my todo.txt set up +work',\n",
       " '2016-08-12 Copy BoM notes from Tyler Griffen class on 2nd half of BoM +church',\n",
       " '2016-08-12 Send Merck trip receipts to Merck +merck',\n",
       " '2016-08-12 Make hotel reservation for Friday night Oct. 7 in Dublin +microtas2016',\n",
       " '2016-08-12 temp +church',\n",
       " '2016-08-13 test no assigned project']"
      ]
     },
     "execution_count": 38,
     "metadata": {},
     "output_type": "execute_result"
    }
   ],
   "source": [
    "todo_items"
   ]
  },
  {
   "cell_type": "code",
   "execution_count": 45,
   "metadata": {
    "collapsed": false
   },
   "outputs": [
    {
     "name": "stdout",
     "output_type": "stream",
     "text": [
      "+make3Dprinter 2016-08-09 Order strain gauge +make3Dprinter\n",
      "+whitepaper 2016-08-09 Start white paper for ARL and DARPA +whitepaper\n",
      "+nsfproposal_1610 2016-08-09 Look up NSF proposal requirements +nsfproposal_1610\n",
      "+work 2016-08-10 Blog post on my todo.txt set up +work\n",
      "+church 2016-08-12 Copy BoM notes from Tyler Griffen class on 2nd half of BoM +church\n",
      "+merck 2016-08-12 Send Merck trip receipts to Merck +merck\n",
      "+microtas2016 2016-08-12 Make hotel reservation for Friday night Oct. 7 in Dublin +microtas2016\n",
      "+church 2016-08-12 temp +church\n",
      "no_assigned_project 2016-08-13 test no assigned project\n"
     ]
    }
   ],
   "source": [
    "for item in todo_items:\n",
    "    words = item.split(' ')\n",
    "    temp = next((word for word in words if word.startswith('+')), 'no_assigned_project')\n",
    "    print(temp, item)"
   ]
  },
  {
   "cell_type": "code",
   "execution_count": 50,
   "metadata": {
    "collapsed": false
   },
   "outputs": [],
   "source": [
    "print ('\\033[1;30mGray like Ghost\\033[1;m')"
   ]
  },
  {
   "cell_type": "code",
   "execution_count": null,
   "metadata": {
    "collapsed": true
   },
   "outputs": [],
   "source": []
  }
 ],
 "metadata": {
  "anaconda-cloud": {},
  "kernelspec": {
   "display_name": "Python [Root]",
   "language": "python",
   "name": "Python [Root]"
  },
  "language_info": {
   "codemirror_mode": {
    "name": "ipython",
    "version": 3
   },
   "file_extension": ".py",
   "mimetype": "text/x-python",
   "name": "python",
   "nbconvert_exporter": "python",
   "pygments_lexer": "ipython3",
   "version": "3.5.2"
  }
 },
 "nbformat": 4,
 "nbformat_minor": 0
}

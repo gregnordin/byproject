{
 "cells": [
  {
   "cell_type": "markdown",
   "metadata": {},
   "source": [
    "See Augusto Men's answer to http://stackoverflow.com/questions/42950/get-last-day-of-the-month-in-python\n",
    "\n",
    "Modified version -- imports specific objects from datetime"
   ]
  },
  {
   "cell_type": "code",
   "execution_count": 1,
   "metadata": {
    "collapsed": true
   },
   "outputs": [],
   "source": [
    "from datetime import date, datetime, timedelta"
   ]
  },
  {
   "cell_type": "code",
   "execution_count": 2,
   "metadata": {
    "collapsed": true
   },
   "outputs": [],
   "source": [
    "def last_day_of_month(any_day):\n",
    "    next_month = any_day.replace(day=28) + timedelta(days=4)  # this will never fail\n",
    "    return next_month - timedelta(days=next_month.day)"
   ]
  },
  {
   "cell_type": "code",
   "execution_count": 4,
   "metadata": {
    "collapsed": false
   },
   "outputs": [
    {
     "name": "stdout",
     "output_type": "stream",
     "text": [
      "2012-01-31\n",
      "2012-02-29\n",
      "2012-03-31\n",
      "2012-04-30\n",
      "2012-05-31\n",
      "2012-06-30\n",
      "2012-07-31\n",
      "2012-08-31\n",
      "2012-09-30\n",
      "2012-10-31\n",
      "2012-11-30\n",
      "2012-12-31\n"
     ]
    }
   ],
   "source": [
    "for month in range(1, 13):\n",
    "    print(last_day_of_month(date(2012, month, 1)))"
   ]
  },
  {
   "cell_type": "code",
   "execution_count": 5,
   "metadata": {
    "collapsed": false
   },
   "outputs": [
    {
     "name": "stdout",
     "output_type": "stream",
     "text": [
      "2016-01-31\n",
      "2016-02-29\n",
      "2016-03-31\n",
      "2016-04-30\n",
      "2016-05-31\n",
      "2016-06-30\n",
      "2016-07-31\n",
      "2016-08-31\n",
      "2016-09-30\n",
      "2016-10-31\n",
      "2016-11-30\n",
      "2016-12-31\n"
     ]
    }
   ],
   "source": [
    "for month in range(1, 13):\n",
    "    print (last_day_of_month(date(2016, month, 1)))"
   ]
  },
  {
   "cell_type": "markdown",
   "metadata": {},
   "source": [
    "Original version -- imports datetime"
   ]
  },
  {
   "cell_type": "code",
   "execution_count": 1,
   "metadata": {
    "collapsed": true
   },
   "outputs": [],
   "source": [
    "import datetime\n",
    "\n",
    "def last_day_of_month(any_day):\n",
    "    next_month = any_day.replace(day=28) + datetime.timedelta(days=4)  # this will never fail\n",
    "    return next_month - datetime.timedelta(days=next_month.day)"
   ]
  },
  {
   "cell_type": "code",
   "execution_count": 3,
   "metadata": {
    "collapsed": false
   },
   "outputs": [
    {
     "name": "stdout",
     "output_type": "stream",
     "text": [
      "2012-01-31\n",
      "2012-02-29\n",
      "2012-03-31\n",
      "2012-04-30\n",
      "2012-05-31\n",
      "2012-06-30\n",
      "2012-07-31\n",
      "2012-08-31\n",
      "2012-09-30\n",
      "2012-10-31\n",
      "2012-11-30\n",
      "2012-12-31\n"
     ]
    }
   ],
   "source": [
    "for month in range(1, 13):\n",
    "    print(last_day_of_month(datetime.date(2012, month, 1)))"
   ]
  },
  {
   "cell_type": "code",
   "execution_count": null,
   "metadata": {
    "collapsed": true
   },
   "outputs": [],
   "source": []
  }
 ],
 "metadata": {
  "anaconda-cloud": {},
  "kernelspec": {
   "display_name": "Python [Root]",
   "language": "python",
   "name": "Python [Root]"
  },
  "language_info": {
   "codemirror_mode": {
    "name": "ipython",
    "version": 3
   },
   "file_extension": ".py",
   "mimetype": "text/x-python",
   "name": "python",
   "nbconvert_exporter": "python",
   "pygments_lexer": "ipython3",
   "version": "3.5.2"
  }
 },
 "nbformat": 4,
 "nbformat_minor": 0
}
